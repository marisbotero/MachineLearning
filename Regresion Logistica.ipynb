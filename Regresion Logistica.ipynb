{
 "cells": [
  {
   "cell_type": "markdown",
   "metadata": {},
   "source": [
    "## Modelo de Regresión Logistica Autocura"
   ]
  },
  {
   "cell_type": "code",
   "execution_count": 1,
   "metadata": {},
   "outputs": [],
   "source": [
    "import pandas as pd\n",
    "import numpy as np\n",
    "from sklearn import linear_model\n",
    "from sklearn import model_selection\n",
    "from sklearn.metrics import classification_report\n",
    "from sklearn.metrics import confusion_matrix\n",
    "from sklearn.metrics import accuracy_score\n",
    "import matplotlib.pyplot as plt\n",
    "import seaborn as sb\n",
    "%matplotlib inline"
   ]
  },
  {
   "cell_type": "code",
   "execution_count": 2,
   "metadata": {},
   "outputs": [
    {
     "data": {
      "text/html": [
       "<div>\n",
       "<style>\n",
       "    .dataframe thead tr:only-child th {\n",
       "        text-align: right;\n",
       "    }\n",
       "\n",
       "    .dataframe thead th {\n",
       "        text-align: left;\n",
       "    }\n",
       "\n",
       "    .dataframe tbody tr th {\n",
       "        vertical-align: top;\n",
       "    }\n",
       "</style>\n",
       "<table border=\"1\" class=\"dataframe\">\n",
       "  <thead>\n",
       "    <tr style=\"text-align: right;\">\n",
       "      <th></th>\n",
       "      <th>max_trim</th>\n",
       "      <th>max_sem</th>\n",
       "      <th>desv_sem</th>\n",
       "      <th>prom_bim</th>\n",
       "      <th>max_mes_anterior</th>\n",
       "      <th>prom_mes_anterior</th>\n",
       "      <th>prom_sem</th>\n",
       "      <th>max_bim</th>\n",
       "      <th>mejor_gestion</th>\n",
       "      <th>prom_trim</th>\n",
       "      <th>...</th>\n",
       "      <th>pc_vi_no_rotativos_entidad</th>\n",
       "      <th>dh_min_dia_entradas</th>\n",
       "      <th>pcons_hipotecario_vivienda</th>\n",
       "      <th>gsm_mejor_gestion_3m</th>\n",
       "      <th>dh_avg_dia_salidas</th>\n",
       "      <th>y_auto_cura</th>\n",
       "      <th>llave</th>\n",
       "      <th>segmentoestructural</th>\n",
       "      <th>subsegmentoestructural</th>\n",
       "      <th>anhomes_ciclo</th>\n",
       "    </tr>\n",
       "  </thead>\n",
       "  <tbody>\n",
       "    <tr>\n",
       "      <th>0</th>\n",
       "      <td>7</td>\n",
       "      <td>7</td>\n",
       "      <td>2.857738</td>\n",
       "      <td>3.5</td>\n",
       "      <td>7</td>\n",
       "      <td>7.0</td>\n",
       "      <td>1.166667</td>\n",
       "      <td>7</td>\n",
       "      <td>0</td>\n",
       "      <td>2.333333</td>\n",
       "      <td>...</td>\n",
       "      <td>0.0</td>\n",
       "      <td>0</td>\n",
       "      <td>0</td>\n",
       "      <td>0</td>\n",
       "      <td>0.000000</td>\n",
       "      <td>0</td>\n",
       "      <td>2</td>\n",
       "      <td>1</td>\n",
       "      <td>1</td>\n",
       "      <td>201608</td>\n",
       "    </tr>\n",
       "    <tr>\n",
       "      <th>1</th>\n",
       "      <td>17</td>\n",
       "      <td>17</td>\n",
       "      <td>7.641989</td>\n",
       "      <td>12.0</td>\n",
       "      <td>17</td>\n",
       "      <td>17.0</td>\n",
       "      <td>8.000000</td>\n",
       "      <td>17</td>\n",
       "      <td>0</td>\n",
       "      <td>13.666667</td>\n",
       "      <td>...</td>\n",
       "      <td>0.0</td>\n",
       "      <td>2</td>\n",
       "      <td>0</td>\n",
       "      <td>0</td>\n",
       "      <td>8.810053</td>\n",
       "      <td>0</td>\n",
       "      <td>5</td>\n",
       "      <td>1</td>\n",
       "      <td>1</td>\n",
       "      <td>201611</td>\n",
       "    </tr>\n",
       "    <tr>\n",
       "      <th>2</th>\n",
       "      <td>27</td>\n",
       "      <td>36</td>\n",
       "      <td>12.868566</td>\n",
       "      <td>13.5</td>\n",
       "      <td>27</td>\n",
       "      <td>27.0</td>\n",
       "      <td>21.000000</td>\n",
       "      <td>27</td>\n",
       "      <td>0</td>\n",
       "      <td>14.000000</td>\n",
       "      <td>...</td>\n",
       "      <td>0.0</td>\n",
       "      <td>7</td>\n",
       "      <td>0</td>\n",
       "      <td>0</td>\n",
       "      <td>10.500000</td>\n",
       "      <td>0</td>\n",
       "      <td>9</td>\n",
       "      <td>1</td>\n",
       "      <td>1</td>\n",
       "      <td>201705</td>\n",
       "    </tr>\n",
       "    <tr>\n",
       "      <th>3</th>\n",
       "      <td>27</td>\n",
       "      <td>27</td>\n",
       "      <td>10.888832</td>\n",
       "      <td>13.5</td>\n",
       "      <td>27</td>\n",
       "      <td>27.0</td>\n",
       "      <td>4.833333</td>\n",
       "      <td>27</td>\n",
       "      <td>0</td>\n",
       "      <td>9.000000</td>\n",
       "      <td>...</td>\n",
       "      <td>0.0</td>\n",
       "      <td>0</td>\n",
       "      <td>0</td>\n",
       "      <td>0</td>\n",
       "      <td>0.000000</td>\n",
       "      <td>0</td>\n",
       "      <td>12</td>\n",
       "      <td>1</td>\n",
       "      <td>1</td>\n",
       "      <td>201609</td>\n",
       "    </tr>\n",
       "    <tr>\n",
       "      <th>4</th>\n",
       "      <td>32</td>\n",
       "      <td>32</td>\n",
       "      <td>11.651895</td>\n",
       "      <td>10.0</td>\n",
       "      <td>20</td>\n",
       "      <td>20.0</td>\n",
       "      <td>20.833333</td>\n",
       "      <td>20</td>\n",
       "      <td>0</td>\n",
       "      <td>17.333333</td>\n",
       "      <td>...</td>\n",
       "      <td>0.0</td>\n",
       "      <td>19</td>\n",
       "      <td>0</td>\n",
       "      <td>0</td>\n",
       "      <td>9.190000</td>\n",
       "      <td>0</td>\n",
       "      <td>15</td>\n",
       "      <td>1</td>\n",
       "      <td>1</td>\n",
       "      <td>201702</td>\n",
       "    </tr>\n",
       "  </tbody>\n",
       "</table>\n",
       "<p>5 rows × 124 columns</p>\n",
       "</div>"
      ],
      "text/plain": [
       "   max_trim  max_sem   desv_sem  prom_bim  max_mes_anterior  \\\n",
       "0         7        7   2.857738       3.5                 7   \n",
       "1        17       17   7.641989      12.0                17   \n",
       "2        27       36  12.868566      13.5                27   \n",
       "3        27       27  10.888832      13.5                27   \n",
       "4        32       32  11.651895      10.0                20   \n",
       "\n",
       "   prom_mes_anterior   prom_sem  max_bim  mejor_gestion  prom_trim  \\\n",
       "0                7.0   1.166667        7              0   2.333333   \n",
       "1               17.0   8.000000       17              0  13.666667   \n",
       "2               27.0  21.000000       27              0  14.000000   \n",
       "3               27.0   4.833333       27              0   9.000000   \n",
       "4               20.0  20.833333       20              0  17.333333   \n",
       "\n",
       "       ...        pc_vi_no_rotativos_entidad  dh_min_dia_entradas  \\\n",
       "0      ...                               0.0                    0   \n",
       "1      ...                               0.0                    2   \n",
       "2      ...                               0.0                    7   \n",
       "3      ...                               0.0                    0   \n",
       "4      ...                               0.0                   19   \n",
       "\n",
       "   pcons_hipotecario_vivienda  gsm_mejor_gestion_3m  dh_avg_dia_salidas  \\\n",
       "0                           0                     0            0.000000   \n",
       "1                           0                     0            8.810053   \n",
       "2                           0                     0           10.500000   \n",
       "3                           0                     0            0.000000   \n",
       "4                           0                     0            9.190000   \n",
       "\n",
       "   y_auto_cura  llave  segmentoestructural  subsegmentoestructural  \\\n",
       "0            0      2                    1                       1   \n",
       "1            0      5                    1                       1   \n",
       "2            0      9                    1                       1   \n",
       "3            0     12                    1                       1   \n",
       "4            0     15                    1                       1   \n",
       "\n",
       "   anhomes_ciclo  \n",
       "0         201608  \n",
       "1         201611  \n",
       "2         201705  \n",
       "3         201609  \n",
       "4         201702  \n",
       "\n",
       "[5 rows x 124 columns]"
      ]
     },
     "execution_count": 2,
     "metadata": {},
     "output_type": "execute_result"
    }
   ],
   "source": [
    "dataframe = pd.read_csv(r\"Desktop/Base_entrenamiento.csv\")\n",
    "dataframe.head()"
   ]
  },
  {
   "cell_type": "code",
   "execution_count": 3,
   "metadata": {},
   "outputs": [
    {
     "data": {
      "text/html": [
       "<div>\n",
       "<style>\n",
       "    .dataframe thead tr:only-child th {\n",
       "        text-align: right;\n",
       "    }\n",
       "\n",
       "    .dataframe thead th {\n",
       "        text-align: left;\n",
       "    }\n",
       "\n",
       "    .dataframe tbody tr th {\n",
       "        vertical-align: top;\n",
       "    }\n",
       "</style>\n",
       "<table border=\"1\" class=\"dataframe\">\n",
       "  <thead>\n",
       "    <tr style=\"text-align: right;\">\n",
       "      <th></th>\n",
       "      <th>max_trim</th>\n",
       "      <th>max_sem</th>\n",
       "      <th>desv_sem</th>\n",
       "      <th>prom_bim</th>\n",
       "      <th>max_mes_anterior</th>\n",
       "      <th>prom_mes_anterior</th>\n",
       "      <th>prom_sem</th>\n",
       "      <th>max_bim</th>\n",
       "      <th>mejor_gestion</th>\n",
       "      <th>prom_trim</th>\n",
       "      <th>...</th>\n",
       "      <th>pc_vi_no_rotativos_entidad</th>\n",
       "      <th>dh_min_dia_entradas</th>\n",
       "      <th>pcons_hipotecario_vivienda</th>\n",
       "      <th>gsm_mejor_gestion_3m</th>\n",
       "      <th>dh_avg_dia_salidas</th>\n",
       "      <th>y_auto_cura</th>\n",
       "      <th>llave</th>\n",
       "      <th>segmentoestructural</th>\n",
       "      <th>subsegmentoestructural</th>\n",
       "      <th>anhomes_ciclo</th>\n",
       "    </tr>\n",
       "  </thead>\n",
       "  <tbody>\n",
       "    <tr>\n",
       "      <th>count</th>\n",
       "      <td>20000.000000</td>\n",
       "      <td>20000.000000</td>\n",
       "      <td>20000.000000</td>\n",
       "      <td>20000.000000</td>\n",
       "      <td>20000.0000</td>\n",
       "      <td>20000.0000</td>\n",
       "      <td>20000.000000</td>\n",
       "      <td>20000.000000</td>\n",
       "      <td>20000.000000</td>\n",
       "      <td>20000.000000</td>\n",
       "      <td>...</td>\n",
       "      <td>20000.000000</td>\n",
       "      <td>20000.000000</td>\n",
       "      <td>20000.00000</td>\n",
       "      <td>20000.000000</td>\n",
       "      <td>20000.000000</td>\n",
       "      <td>20000.000000</td>\n",
       "      <td>20000.000000</td>\n",
       "      <td>20000.0</td>\n",
       "      <td>20000.0</td>\n",
       "      <td>20000.00000</td>\n",
       "    </tr>\n",
       "    <tr>\n",
       "      <th>mean</th>\n",
       "      <td>12.908100</td>\n",
       "      <td>16.447200</td>\n",
       "      <td>6.484026</td>\n",
       "      <td>7.653050</td>\n",
       "      <td>7.3156</td>\n",
       "      <td>7.3156</td>\n",
       "      <td>7.034238</td>\n",
       "      <td>10.878500</td>\n",
       "      <td>0.010300</td>\n",
       "      <td>7.507875</td>\n",
       "      <td>...</td>\n",
       "      <td>1634.203000</td>\n",
       "      <td>3.309350</td>\n",
       "      <td>0.03795</td>\n",
       "      <td>0.001600</td>\n",
       "      <td>6.729243</td>\n",
       "      <td>0.692400</td>\n",
       "      <td>20054.133900</td>\n",
       "      <td>1.0</td>\n",
       "      <td>1.0</td>\n",
       "      <td>201663.59140</td>\n",
       "    </tr>\n",
       "    <tr>\n",
       "      <th>std</th>\n",
       "      <td>19.558647</td>\n",
       "      <td>22.596153</td>\n",
       "      <td>8.130128</td>\n",
       "      <td>15.100529</td>\n",
       "      <td>15.7581</td>\n",
       "      <td>15.7581</td>\n",
       "      <td>13.312215</td>\n",
       "      <td>18.284183</td>\n",
       "      <td>0.387042</td>\n",
       "      <td>14.320475</td>\n",
       "      <td>...</td>\n",
       "      <td>18443.129269</td>\n",
       "      <td>5.683887</td>\n",
       "      <td>0.19108</td>\n",
       "      <td>0.159996</td>\n",
       "      <td>5.057818</td>\n",
       "      <td>0.461512</td>\n",
       "      <td>11678.100328</td>\n",
       "      <td>0.0</td>\n",
       "      <td>0.0</td>\n",
       "      <td>46.86751</td>\n",
       "    </tr>\n",
       "    <tr>\n",
       "      <th>min</th>\n",
       "      <td>0.000000</td>\n",
       "      <td>0.000000</td>\n",
       "      <td>0.000000</td>\n",
       "      <td>0.000000</td>\n",
       "      <td>0.0000</td>\n",
       "      <td>0.0000</td>\n",
       "      <td>0.000000</td>\n",
       "      <td>0.000000</td>\n",
       "      <td>0.000000</td>\n",
       "      <td>0.000000</td>\n",
       "      <td>...</td>\n",
       "      <td>0.000000</td>\n",
       "      <td>0.000000</td>\n",
       "      <td>0.00000</td>\n",
       "      <td>0.000000</td>\n",
       "      <td>0.000000</td>\n",
       "      <td>0.000000</td>\n",
       "      <td>2.000000</td>\n",
       "      <td>1.0</td>\n",
       "      <td>1.0</td>\n",
       "      <td>201607.00000</td>\n",
       "    </tr>\n",
       "    <tr>\n",
       "      <th>25%</th>\n",
       "      <td>0.000000</td>\n",
       "      <td>3.000000</td>\n",
       "      <td>1.224745</td>\n",
       "      <td>0.000000</td>\n",
       "      <td>0.0000</td>\n",
       "      <td>0.0000</td>\n",
       "      <td>0.666667</td>\n",
       "      <td>0.000000</td>\n",
       "      <td>0.000000</td>\n",
       "      <td>0.000000</td>\n",
       "      <td>...</td>\n",
       "      <td>0.000000</td>\n",
       "      <td>0.000000</td>\n",
       "      <td>0.00000</td>\n",
       "      <td>0.000000</td>\n",
       "      <td>0.000000</td>\n",
       "      <td>0.000000</td>\n",
       "      <td>9939.500000</td>\n",
       "      <td>1.0</td>\n",
       "      <td>1.0</td>\n",
       "      <td>201610.00000</td>\n",
       "    </tr>\n",
       "    <tr>\n",
       "      <th>50%</th>\n",
       "      <td>7.000000</td>\n",
       "      <td>11.000000</td>\n",
       "      <td>4.242641</td>\n",
       "      <td>3.000000</td>\n",
       "      <td>0.0000</td>\n",
       "      <td>0.0000</td>\n",
       "      <td>3.500000</td>\n",
       "      <td>5.000000</td>\n",
       "      <td>0.000000</td>\n",
       "      <td>3.333333</td>\n",
       "      <td>...</td>\n",
       "      <td>0.000000</td>\n",
       "      <td>1.000000</td>\n",
       "      <td>0.00000</td>\n",
       "      <td>0.000000</td>\n",
       "      <td>8.265756</td>\n",
       "      <td>1.000000</td>\n",
       "      <td>19889.500000</td>\n",
       "      <td>1.0</td>\n",
       "      <td>1.0</td>\n",
       "      <td>201702.00000</td>\n",
       "    </tr>\n",
       "    <tr>\n",
       "      <th>75%</th>\n",
       "      <td>17.000000</td>\n",
       "      <td>22.000000</td>\n",
       "      <td>8.981462</td>\n",
       "      <td>9.000000</td>\n",
       "      <td>9.0000</td>\n",
       "      <td>9.0000</td>\n",
       "      <td>8.666667</td>\n",
       "      <td>14.000000</td>\n",
       "      <td>0.000000</td>\n",
       "      <td>9.000000</td>\n",
       "      <td>...</td>\n",
       "      <td>0.000000</td>\n",
       "      <td>3.000000</td>\n",
       "      <td>0.00000</td>\n",
       "      <td>0.000000</td>\n",
       "      <td>10.518994</td>\n",
       "      <td>1.000000</td>\n",
       "      <td>30168.250000</td>\n",
       "      <td>1.0</td>\n",
       "      <td>1.0</td>\n",
       "      <td>201705.00000</td>\n",
       "    </tr>\n",
       "    <tr>\n",
       "      <th>max</th>\n",
       "      <td>696.000000</td>\n",
       "      <td>1062.000000</td>\n",
       "      <td>210.552052</td>\n",
       "      <td>681.500000</td>\n",
       "      <td>696.0000</td>\n",
       "      <td>696.0000</td>\n",
       "      <td>850.000000</td>\n",
       "      <td>696.000000</td>\n",
       "      <td>16.000000</td>\n",
       "      <td>667.333333</td>\n",
       "      <td>...</td>\n",
       "      <td>348900.000000</td>\n",
       "      <td>31.000000</td>\n",
       "      <td>1.00000</td>\n",
       "      <td>16.000000</td>\n",
       "      <td>30.000000</td>\n",
       "      <td>1.000000</td>\n",
       "      <td>40453.000000</td>\n",
       "      <td>1.0</td>\n",
       "      <td>1.0</td>\n",
       "      <td>201708.00000</td>\n",
       "    </tr>\n",
       "  </tbody>\n",
       "</table>\n",
       "<p>8 rows × 124 columns</p>\n",
       "</div>"
      ],
      "text/plain": [
       "           max_trim       max_sem      desv_sem      prom_bim  \\\n",
       "count  20000.000000  20000.000000  20000.000000  20000.000000   \n",
       "mean      12.908100     16.447200      6.484026      7.653050   \n",
       "std       19.558647     22.596153      8.130128     15.100529   \n",
       "min        0.000000      0.000000      0.000000      0.000000   \n",
       "25%        0.000000      3.000000      1.224745      0.000000   \n",
       "50%        7.000000     11.000000      4.242641      3.000000   \n",
       "75%       17.000000     22.000000      8.981462      9.000000   \n",
       "max      696.000000   1062.000000    210.552052    681.500000   \n",
       "\n",
       "       max_mes_anterior  prom_mes_anterior      prom_sem       max_bim  \\\n",
       "count        20000.0000         20000.0000  20000.000000  20000.000000   \n",
       "mean             7.3156             7.3156      7.034238     10.878500   \n",
       "std             15.7581            15.7581     13.312215     18.284183   \n",
       "min              0.0000             0.0000      0.000000      0.000000   \n",
       "25%              0.0000             0.0000      0.666667      0.000000   \n",
       "50%              0.0000             0.0000      3.500000      5.000000   \n",
       "75%              9.0000             9.0000      8.666667     14.000000   \n",
       "max            696.0000           696.0000    850.000000    696.000000   \n",
       "\n",
       "       mejor_gestion     prom_trim      ...        pc_vi_no_rotativos_entidad  \\\n",
       "count   20000.000000  20000.000000      ...                      20000.000000   \n",
       "mean        0.010300      7.507875      ...                       1634.203000   \n",
       "std         0.387042     14.320475      ...                      18443.129269   \n",
       "min         0.000000      0.000000      ...                          0.000000   \n",
       "25%         0.000000      0.000000      ...                          0.000000   \n",
       "50%         0.000000      3.333333      ...                          0.000000   \n",
       "75%         0.000000      9.000000      ...                          0.000000   \n",
       "max        16.000000    667.333333      ...                     348900.000000   \n",
       "\n",
       "       dh_min_dia_entradas  pcons_hipotecario_vivienda  gsm_mejor_gestion_3m  \\\n",
       "count         20000.000000                 20000.00000          20000.000000   \n",
       "mean              3.309350                     0.03795              0.001600   \n",
       "std               5.683887                     0.19108              0.159996   \n",
       "min               0.000000                     0.00000              0.000000   \n",
       "25%               0.000000                     0.00000              0.000000   \n",
       "50%               1.000000                     0.00000              0.000000   \n",
       "75%               3.000000                     0.00000              0.000000   \n",
       "max              31.000000                     1.00000             16.000000   \n",
       "\n",
       "       dh_avg_dia_salidas   y_auto_cura         llave  segmentoestructural  \\\n",
       "count        20000.000000  20000.000000  20000.000000              20000.0   \n",
       "mean             6.729243      0.692400  20054.133900                  1.0   \n",
       "std              5.057818      0.461512  11678.100328                  0.0   \n",
       "min              0.000000      0.000000      2.000000                  1.0   \n",
       "25%              0.000000      0.000000   9939.500000                  1.0   \n",
       "50%              8.265756      1.000000  19889.500000                  1.0   \n",
       "75%             10.518994      1.000000  30168.250000                  1.0   \n",
       "max             30.000000      1.000000  40453.000000                  1.0   \n",
       "\n",
       "       subsegmentoestructural  anhomes_ciclo  \n",
       "count                 20000.0    20000.00000  \n",
       "mean                      1.0   201663.59140  \n",
       "std                       0.0       46.86751  \n",
       "min                       1.0   201607.00000  \n",
       "25%                       1.0   201610.00000  \n",
       "50%                       1.0   201702.00000  \n",
       "75%                       1.0   201705.00000  \n",
       "max                       1.0   201708.00000  \n",
       "\n",
       "[8 rows x 124 columns]"
      ]
     },
     "execution_count": 3,
     "metadata": {},
     "output_type": "execute_result"
    }
   ],
   "source": [
    "dataframe.describe()"
   ]
  },
  {
   "cell_type": "code",
   "execution_count": 4,
   "metadata": {},
   "outputs": [
    {
     "name": "stdout",
     "output_type": "stream",
     "text": [
      "y_auto_cura\n",
      "0     6152\n",
      "1    13848\n",
      "dtype: int64\n"
     ]
    }
   ],
   "source": [
    "print(dataframe.groupby('y_auto_cura').size())"
   ]
  },
  {
   "cell_type": "code",
   "execution_count": 5,
   "metadata": {},
   "outputs": [
    {
     "data": {
      "text/plain": [
       "<seaborn.axisgrid.PairGrid at 0x17c91a04518>"
      ]
     },
     "execution_count": 5,
     "metadata": {},
     "output_type": "execute_result"
    },
    {
     "data": {
      "image/png": "[encoded data removed]",
      "text/plain": [
       "<matplotlib.figure.Figure at 0x17c919e9f28>"
      ]
     },
     "metadata": {},
     "output_type": "display_data"
    }
   ],
   "source": [
    "sb.pairplot(dataframe.dropna(), hue='y_auto_cura',size=4,vars=[\"max_trim\", \"max_sem\",\"gsm_mejor_gestion_3m\",\"pcons_hipotecario_vivienda\"],kind='reg')"
   ]
  },
  {
   "cell_type": "code",
   "execution_count": 6,
   "metadata": {},
   "outputs": [
    {
     "data": {
      "text/plain": [
       "(20000, 123)"
      ]
     },
     "execution_count": 6,
     "metadata": {},
     "output_type": "execute_result"
    }
   ],
   "source": [
    "X = np.array(dataframe.drop(['y_auto_cura'],1))\n",
    "y = np.array(dataframe['y_auto_cura'])\n",
    "X.shape"
   ]
  },
  {
   "cell_type": "code",
   "execution_count": 7,
   "metadata": {},
   "outputs": [
    {
     "data": {
      "text/plain": [
       "LogisticRegression(C=1.0, class_weight=None, dual=False, fit_intercept=True,\n",
       "          intercept_scaling=1, max_iter=100, multi_class='ovr', n_jobs=1,\n",
       "          penalty='l2', random_state=None, solver='liblinear', tol=0.0001,\n",
       "          verbose=0, warm_start=False)"
      ]
     },
     "execution_count": 7,
     "metadata": {},
     "output_type": "execute_result"
    }
   ],
   "source": [
    "model = linear_model.LogisticRegression()\n",
    "model.fit(X,y)"
   ]
  },
  {
   "cell_type": "code",
   "execution_count": 9,
   "metadata": {},
   "outputs": [],
   "source": [
    "predictions = model.predict(X)\n"
   ]
  },
  {
   "cell_type": "code",
   "execution_count": 10,
   "metadata": {},
   "outputs": [
    {
     "data": {
      "text/plain": [
       "0.69189999999999996"
      ]
     },
     "execution_count": 10,
     "metadata": {},
     "output_type": "execute_result"
    }
   ],
   "source": [
    "\n",
    "model.score(X,y)"
   ]
  },
  {
   "cell_type": "code",
   "execution_count": 42,
   "metadata": {},
   "outputs": [],
   "source": [
    "validation_size = 0.2\n",
    "seed = 9\n",
    "X_train, X_validation, Y_train, Y_validation = model_selection.train_test_split(X, y, test_size=validation_size, random_state=seed)"
   ]
  },
  {
   "cell_type": "code",
   "execution_count": 43,
   "metadata": {},
   "outputs": [
    {
     "name": "stdout",
     "output_type": "stream",
     "text": [
      "Logistic Regression: 0.690687 (0.011748)\n"
     ]
    }
   ],
   "source": [
    "name='Logistic Regression'\n",
    "kfold = model_selection.KFold(n_splits=10, random_state=seed)\n",
    "cv_results = model_selection.cross_val_score(model, X_train, Y_train, cv=kfold, scoring='accuracy')\n",
    "msg = \"%s: %f (%f)\" % (name, cv_results.mean(), cv_results.std())\n",
    "print(msg)"
   ]
  },
  {
   "cell_type": "code",
   "execution_count": 44,
   "metadata": {},
   "outputs": [
    {
     "name": "stdout",
     "output_type": "stream",
     "text": [
      "0.69275\n"
     ]
    }
   ],
   "source": [
    "predictions = model.predict(X_validation)\n",
    "print(accuracy_score(Y_validation, predictions))"
   ]
  },
  {
   "cell_type": "code",
   "execution_count": 45,
   "metadata": {},
   "outputs": [
    {
     "name": "stdout",
     "output_type": "stream",
     "text": [
      "[[   9 1213]\n",
      " [  16 2762]]\n"
     ]
    }
   ],
   "source": [
    "print(confusion_matrix(Y_validation, predictions))"
   ]
  },
  {
   "cell_type": "code",
   "execution_count": 46,
   "metadata": {},
   "outputs": [
    {
     "name": "stdout",
     "output_type": "stream",
     "text": [
      "             precision    recall  f1-score   support\n",
      "\n",
      "          0       0.36      0.01      0.01      1222\n",
      "          1       0.69      0.99      0.82      2778\n",
      "\n",
      "avg / total       0.59      0.69      0.57      4000\n",
      "\n"
     ]
    }
   ],
   "source": [
    "print(classification_report(Y_validation, predictions))"
   ]
  },
  {
   "cell_type": "code",
   "execution_count": 49,
   "metadata": {},
   "outputs": [],
   "source": [
    "#X_new = pd.DataFrame({'max_trim': [10], 'max_sem': [3], 'desv_sem': [5], 'prom_bim': [9],'max_mes_anterior': [5],'prom_mes_anterior': [5],'prom_sem': [5],'max_bim': [5],'mejor_gestion': [5]\n",
    " #                    })\n",
    "#model.predict(X_new)"
   ]
  },
  {
   "cell_type": "code",
   "execution_count": null,
   "metadata": {},
   "outputs": [],
   "source": []
  }
 ],
 "metadata": {
  "kernelspec": {
   "display_name": "Python 3",
   "language": "python",
   "name": "python3"
  },
  "language_info": {
   "codemirror_mode": {
    "name": "ipython",
    "version": 3
   },
   "file_extension": ".py",
   "mimetype": "text/x-python",
   "name": "python",
   "nbconvert_exporter": "python",
   "pygments_lexer": "ipython3",
   "version": "3.6.3"
  }
 },
 "nbformat": 4,
 "nbformat_minor": 2
}
