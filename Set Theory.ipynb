{
 "cells": [
  {
   "cell_type": "code",
   "execution_count": 1,
   "metadata": {},
   "outputs": [
    {
     "data": {
      "text/plain": [
       "{'bread', 'eggs', 'milk', 'wine'}"
      ]
     },
     "execution_count": 1,
     "metadata": {},
     "output_type": "execute_result"
    }
   ],
   "source": [
    "shopList = [\"eggs\", \"milk\", \"bread\", \"wine\", \"eggs\"]\n",
    "set(shopList)\n"
   ]
  },
  {
   "cell_type": "code",
   "execution_count": 2,
   "metadata": {},
   "outputs": [
    {
     "name": "stdout",
     "output_type": "stream",
     "text": [
      "{'Sphynx', 'Siamese', 'Ragdoll', 'Maine Coon', 'Angora', 'Abyssinian', 'Persian'}\n",
      "{'Chihuahua', 'Poodle', 'German Sheperd', 'Beagle', 'Bulldog'}\n",
      "<class 'dict'>\n",
      "set()\n"
     ]
    }
   ],
   "source": [
    "# Constructors\n",
    "\n",
    "cats = {\"Ragdoll\", \"Persian\", \"Siamese\", \"Angora\", \"Sphynx\", \"Abyssinian\", \"Maine Coon\"}\n",
    "print(cats)\n",
    "\n",
    "dogs = {\"German Sheperd\", \"Bulldog\", \"Poodle\", \"Beagle\", \"Chihuahua\"}\n",
    "print(dogs)\n",
    "\n",
    "birds = {} # This is not an empty set :O\n",
    "print(type(birds))\n",
    "\n",
    "soul = set() # _This_ is an empty set\n",
    "print(soul)\n"
   ]
  },
  {
   "cell_type": "code",
   "execution_count": 3,
   "metadata": {},
   "outputs": [
    {
     "name": "stdout",
     "output_type": "stream",
     "text": [
      "True\n",
      "False\n",
      "False\n",
      "False\n"
     ]
    }
   ],
   "source": [
    "\n",
    "print(dogs.isdisjoint(cats)) # Do dogs and cats have elements in common? \n",
    "\n",
    "print(cats.__contains__(\"Street cat\")) \n",
    "\n",
    "print(cats.issubset(dogs))\n",
    "\n",
    "print(dogs.issuperset(cats))"
   ]
  },
  {
   "cell_type": "code",
   "execution_count": 4,
   "metadata": {},
   "outputs": [
    {
     "name": "stdout",
     "output_type": "stream",
     "text": [
      "{'Sphynx', 'Siamese', 'Ragdoll', 'Maine Coon', 'Angora', 'Abyssinian', 'Persian'}\n"
     ]
    }
   ],
   "source": [
    "cats.add(\"Siamese\")\n",
    "\n",
    "print(cats)"
   ]
  },
  {
   "cell_type": "code",
   "execution_count": 5,
   "metadata": {},
   "outputs": [
    {
     "name": "stdout",
     "output_type": "stream",
     "text": [
      "{'Sphynx', 'Ragdoll', 'Maine Coon', 'Angora', 'Abyssinian', 'Persian'}\n"
     ]
    }
   ],
   "source": [
    "cats.discard(\"Siamese\")\n",
    "cats.discard(\"Street cat\")\n",
    "\n",
    "print(cats)"
   ]
  },
  {
   "cell_type": "code",
   "execution_count": 6,
   "metadata": {},
   "outputs": [
    {
     "name": "stdout",
     "output_type": "stream",
     "text": [
      "{'Maine Coon', 'Angora', 'Sphynx', 'Abyssinian', 'Persian', 'Ragdoll'}\n"
     ]
    }
   ],
   "source": [
    "copyCats = cats.copy()\n",
    "\n",
    "print(copyCats)"
   ]
  },
  {
   "cell_type": "code",
   "execution_count": 7,
   "metadata": {},
   "outputs": [
    {
     "name": "stdout",
     "output_type": "stream",
     "text": [
      "{'Chihuahua', 'Poodle', 'German Sheperd', 'Beagle', 'Bulldog'}\n",
      "{'Poodle', 'German Sheperd', 'Beagle', 'Bulldog'}\n"
     ]
    }
   ],
   "source": [
    "\n",
    "print(dogs)\n",
    "\n",
    "dogs.pop()\n",
    "\n",
    "print(dogs)"
   ]
  },
  {
   "cell_type": "code",
   "execution_count": 10,
   "metadata": {},
   "outputs": [],
   "source": [
    "# Remove - Removes an element from the set (raises an error if the element is not in the set)\n",
    "\n"
   ]
  },
  {
   "cell_type": "code",
   "execution_count": 11,
   "metadata": {},
   "outputs": [
    {
     "name": "stdout",
     "output_type": "stream",
     "text": [
      "set()\n"
     ]
    }
   ],
   "source": [
    "# Clear - Removes all elements from a set \n",
    "\n",
    "copyCats.clear()\n",
    "\n",
    "print(copyCats)"
   ]
  },
  {
   "cell_type": "code",
   "execution_count": 12,
   "metadata": {},
   "outputs": [
    {
     "name": "stdout",
     "output_type": "stream",
     "text": [
      "The cat set has 6 cats.\n"
     ]
    }
   ],
   "source": [
    "\n",
    "print(\"The cat set has\", len(cats), \"cats.\")"
   ]
  },
  {
   "cell_type": "code",
   "execution_count": 13,
   "metadata": {},
   "outputs": [
    {
     "name": "stdout",
     "output_type": "stream",
     "text": [
      "{'Poodle', 'Sphynx', 'Ragdoll', 'Maine Coon', 'German Sheperd', 'Angora', 'Abyssinian', 'Persian', 'Beagle', 'Bulldog'}\n"
     ]
    }
   ],
   "source": [
    "# Union\n",
    "\n",
    "catdog = cats | dogs \n",
    "# catdog = cats.union(dogs)\n",
    "\n",
    "print(catdog)\n"
   ]
  },
  {
   "cell_type": "code",
   "execution_count": 14,
   "metadata": {},
   "outputs": [
    {
     "name": "stdout",
     "output_type": "stream",
     "text": [
      "{'Poodle', 'Sphynx', 'Ragdoll', 'Maine Coon', 'German Sheperd', 'Angora', 'Abyssinian', 'Persian', 'Beagle', 'Bulldog'}\n"
     ]
    }
   ],
   "source": [
    "# Union\n",
    "\n",
    "catdog = cats | dogs \n",
    "# catdog = cats.union(dogs)\n",
    "\n",
    "print(catdog)\n"
   ]
  },
  {
   "cell_type": "code",
   "execution_count": 15,
   "metadata": {},
   "outputs": [
    {
     "name": "stdout",
     "output_type": "stream",
     "text": [
      "{'German Sheperd', 'Poodle', 'Beagle', 'Bulldog'}\n"
     ]
    }
   ],
   "source": [
    "# Difference\n",
    "\n",
    "otherDogs = catdog - cats\n",
    "\n",
    "print(otherDogs)"
   ]
  },
  {
   "cell_type": "code",
   "execution_count": 16,
   "metadata": {},
   "outputs": [
    {
     "name": "stdout",
     "output_type": "stream",
     "text": [
      "{'Sphynx', 'Ragdoll', 'Maine Coon', 'Angora', 'Abyssinian', 'Persian'}\n"
     ]
    }
   ],
   "source": [
    "# Symmetric Difference\n",
    "\n",
    "otherCats = catdog.symmetric_difference(dogs)\n",
    "\n",
    "print(otherCats)"
   ]
  },
  {
   "cell_type": "code",
   "execution_count": null,
   "metadata": {},
   "outputs": [],
   "source": []
  }
 ],
 "metadata": {
  "kernelspec": {
   "display_name": "Python 3",
   "language": "python",
   "name": "python3"
  },
  "language_info": {
   "codemirror_mode": {
    "name": "ipython",
    "version": 3
   },
   "file_extension": ".py",
   "mimetype": "text/x-python",
   "name": "python",
   "nbconvert_exporter": "python",
   "pygments_lexer": "ipython3",
   "version": "3.6.5"
  }
 },
 "nbformat": 4,
 "nbformat_minor": 2
}
