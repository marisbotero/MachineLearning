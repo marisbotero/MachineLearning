{
 "cells": [
  {
   "cell_type": "markdown",
   "metadata": {},
   "source": [
    "## Modelo autocura"
   ]
  },
  {
   "cell_type": "markdown",
   "metadata": {},
   "source": []
  },
  {
   "cell_type": "code",
   "execution_count": 27,
   "metadata": {},
   "outputs": [],
   "source": [
    "import pandas as pd\n",
    "import numpy as np\n",
    "import matplotlib.pyplot as plt\n",
    "from matplotlib import colors\n",
    "import seaborn as sb\n",
    " \n",
    "%matplotlib inline\n",
    "plt.rcParams['figure.figsize'] = (16, 9)\n",
    "plt.style.use('ggplot')\n",
    " \n",
    "from sklearn.model_selection import train_test_split\n",
    "from sklearn.metrics import classification_report\n",
    "from sklearn.metrics import confusion_matrix\n",
    "from sklearn.naive_bayes import GaussianNB\n",
    "from sklearn.feature_selection import SelectKBest"
   ]
  },
  {
   "cell_type": "code",
   "execution_count": 28,
   "metadata": {},
   "outputs": [
    {
     "data": {
      "text/html": [
       "<div>\n",
       "<style>\n",
       "    .dataframe thead tr:only-child th {\n",
       "        text-align: right;\n",
       "    }\n",
       "\n",
       "    .dataframe thead th {\n",
       "        text-align: left;\n",
       "    }\n",
       "\n",
       "    .dataframe tbody tr th {\n",
       "        vertical-align: top;\n",
       "    }\n",
       "</style>\n",
       "<table border=\"1\" class=\"dataframe\">\n",
       "  <thead>\n",
       "    <tr style=\"text-align: right;\">\n",
       "      <th></th>\n",
       "      <th>max_trim</th>\n",
       "      <th>max_sem</th>\n",
       "      <th>desv_sem</th>\n",
       "      <th>prom_bim</th>\n",
       "      <th>max_mes_anterior</th>\n",
       "      <th>prom_mes_anterior</th>\n",
       "      <th>prom_sem</th>\n",
       "      <th>max_bim</th>\n",
       "      <th>mejor_gestion</th>\n",
       "      <th>prom_trim</th>\n",
       "      <th>...</th>\n",
       "      <th>pc_vi_no_rotativos_entidad</th>\n",
       "      <th>dh_min_dia_entradas</th>\n",
       "      <th>pcons_hipotecario_vivienda</th>\n",
       "      <th>gsm_mejor_gestion_3m</th>\n",
       "      <th>dh_avg_dia_salidas</th>\n",
       "      <th>y_auto_cura</th>\n",
       "      <th>llave</th>\n",
       "      <th>segmentoestructural</th>\n",
       "      <th>subsegmentoestructural</th>\n",
       "      <th>anhomes_ciclo</th>\n",
       "    </tr>\n",
       "  </thead>\n",
       "  <tbody>\n",
       "    <tr>\n",
       "      <th>0</th>\n",
       "      <td>7</td>\n",
       "      <td>7</td>\n",
       "      <td>2.857738</td>\n",
       "      <td>3.5</td>\n",
       "      <td>7</td>\n",
       "      <td>7.0</td>\n",
       "      <td>1.166667</td>\n",
       "      <td>7</td>\n",
       "      <td>0</td>\n",
       "      <td>2.333333</td>\n",
       "      <td>...</td>\n",
       "      <td>0.0</td>\n",
       "      <td>0</td>\n",
       "      <td>0</td>\n",
       "      <td>0</td>\n",
       "      <td>0.000000</td>\n",
       "      <td>0</td>\n",
       "      <td>2</td>\n",
       "      <td>1</td>\n",
       "      <td>1</td>\n",
       "      <td>201608</td>\n",
       "    </tr>\n",
       "    <tr>\n",
       "      <th>1</th>\n",
       "      <td>17</td>\n",
       "      <td>17</td>\n",
       "      <td>7.641989</td>\n",
       "      <td>12.0</td>\n",
       "      <td>17</td>\n",
       "      <td>17.0</td>\n",
       "      <td>8.000000</td>\n",
       "      <td>17</td>\n",
       "      <td>0</td>\n",
       "      <td>13.666667</td>\n",
       "      <td>...</td>\n",
       "      <td>0.0</td>\n",
       "      <td>2</td>\n",
       "      <td>0</td>\n",
       "      <td>0</td>\n",
       "      <td>8.810053</td>\n",
       "      <td>0</td>\n",
       "      <td>5</td>\n",
       "      <td>1</td>\n",
       "      <td>1</td>\n",
       "      <td>201611</td>\n",
       "    </tr>\n",
       "    <tr>\n",
       "      <th>2</th>\n",
       "      <td>27</td>\n",
       "      <td>36</td>\n",
       "      <td>12.868566</td>\n",
       "      <td>13.5</td>\n",
       "      <td>27</td>\n",
       "      <td>27.0</td>\n",
       "      <td>21.000000</td>\n",
       "      <td>27</td>\n",
       "      <td>0</td>\n",
       "      <td>14.000000</td>\n",
       "      <td>...</td>\n",
       "      <td>0.0</td>\n",
       "      <td>7</td>\n",
       "      <td>0</td>\n",
       "      <td>0</td>\n",
       "      <td>10.500000</td>\n",
       "      <td>0</td>\n",
       "      <td>9</td>\n",
       "      <td>1</td>\n",
       "      <td>1</td>\n",
       "      <td>201705</td>\n",
       "    </tr>\n",
       "    <tr>\n",
       "      <th>3</th>\n",
       "      <td>27</td>\n",
       "      <td>27</td>\n",
       "      <td>10.888832</td>\n",
       "      <td>13.5</td>\n",
       "      <td>27</td>\n",
       "      <td>27.0</td>\n",
       "      <td>4.833333</td>\n",
       "      <td>27</td>\n",
       "      <td>0</td>\n",
       "      <td>9.000000</td>\n",
       "      <td>...</td>\n",
       "      <td>0.0</td>\n",
       "      <td>0</td>\n",
       "      <td>0</td>\n",
       "      <td>0</td>\n",
       "      <td>0.000000</td>\n",
       "      <td>0</td>\n",
       "      <td>12</td>\n",
       "      <td>1</td>\n",
       "      <td>1</td>\n",
       "      <td>201609</td>\n",
       "    </tr>\n",
       "    <tr>\n",
       "      <th>4</th>\n",
       "      <td>32</td>\n",
       "      <td>32</td>\n",
       "      <td>11.651895</td>\n",
       "      <td>10.0</td>\n",
       "      <td>20</td>\n",
       "      <td>20.0</td>\n",
       "      <td>20.833333</td>\n",
       "      <td>20</td>\n",
       "      <td>0</td>\n",
       "      <td>17.333333</td>\n",
       "      <td>...</td>\n",
       "      <td>0.0</td>\n",
       "      <td>19</td>\n",
       "      <td>0</td>\n",
       "      <td>0</td>\n",
       "      <td>9.190000</td>\n",
       "      <td>0</td>\n",
       "      <td>15</td>\n",
       "      <td>1</td>\n",
       "      <td>1</td>\n",
       "      <td>201702</td>\n",
       "    </tr>\n",
       "    <tr>\n",
       "      <th>5</th>\n",
       "      <td>30</td>\n",
       "      <td>32</td>\n",
       "      <td>11.906581</td>\n",
       "      <td>28.5</td>\n",
       "      <td>27</td>\n",
       "      <td>27.0</td>\n",
       "      <td>22.833333</td>\n",
       "      <td>30</td>\n",
       "      <td>0</td>\n",
       "      <td>28.333333</td>\n",
       "      <td>...</td>\n",
       "      <td>0.0</td>\n",
       "      <td>7</td>\n",
       "      <td>0</td>\n",
       "      <td>0</td>\n",
       "      <td>10.500000</td>\n",
       "      <td>0</td>\n",
       "      <td>17</td>\n",
       "      <td>1</td>\n",
       "      <td>1</td>\n",
       "      <td>201705</td>\n",
       "    </tr>\n",
       "    <tr>\n",
       "      <th>6</th>\n",
       "      <td>0</td>\n",
       "      <td>0</td>\n",
       "      <td>0.000000</td>\n",
       "      <td>0.0</td>\n",
       "      <td>0</td>\n",
       "      <td>0.0</td>\n",
       "      <td>0.000000</td>\n",
       "      <td>0</td>\n",
       "      <td>0</td>\n",
       "      <td>0.000000</td>\n",
       "      <td>...</td>\n",
       "      <td>0.0</td>\n",
       "      <td>0</td>\n",
       "      <td>0</td>\n",
       "      <td>0</td>\n",
       "      <td>0.000000</td>\n",
       "      <td>1</td>\n",
       "      <td>20</td>\n",
       "      <td>1</td>\n",
       "      <td>1</td>\n",
       "      <td>201607</td>\n",
       "    </tr>\n",
       "    <tr>\n",
       "      <th>7</th>\n",
       "      <td>0</td>\n",
       "      <td>0</td>\n",
       "      <td>0.000000</td>\n",
       "      <td>0.0</td>\n",
       "      <td>0</td>\n",
       "      <td>0.0</td>\n",
       "      <td>0.000000</td>\n",
       "      <td>0</td>\n",
       "      <td>0</td>\n",
       "      <td>0.000000</td>\n",
       "      <td>...</td>\n",
       "      <td>0.0</td>\n",
       "      <td>1</td>\n",
       "      <td>0</td>\n",
       "      <td>0</td>\n",
       "      <td>9.591059</td>\n",
       "      <td>1</td>\n",
       "      <td>22</td>\n",
       "      <td>1</td>\n",
       "      <td>1</td>\n",
       "      <td>201612</td>\n",
       "    </tr>\n",
       "    <tr>\n",
       "      <th>8</th>\n",
       "      <td>0</td>\n",
       "      <td>0</td>\n",
       "      <td>0.000000</td>\n",
       "      <td>0.0</td>\n",
       "      <td>0</td>\n",
       "      <td>0.0</td>\n",
       "      <td>0.000000</td>\n",
       "      <td>0</td>\n",
       "      <td>0</td>\n",
       "      <td>0.000000</td>\n",
       "      <td>...</td>\n",
       "      <td>0.0</td>\n",
       "      <td>2</td>\n",
       "      <td>1</td>\n",
       "      <td>0</td>\n",
       "      <td>10.336827</td>\n",
       "      <td>1</td>\n",
       "      <td>26</td>\n",
       "      <td>1</td>\n",
       "      <td>1</td>\n",
       "      <td>201706</td>\n",
       "    </tr>\n",
       "    <tr>\n",
       "      <th>9</th>\n",
       "      <td>12</td>\n",
       "      <td>12</td>\n",
       "      <td>6.000000</td>\n",
       "      <td>6.0</td>\n",
       "      <td>12</td>\n",
       "      <td>12.0</td>\n",
       "      <td>3.000000</td>\n",
       "      <td>12</td>\n",
       "      <td>0</td>\n",
       "      <td>4.000000</td>\n",
       "      <td>...</td>\n",
       "      <td>0.0</td>\n",
       "      <td>0</td>\n",
       "      <td>0</td>\n",
       "      <td>0</td>\n",
       "      <td>0.000000</td>\n",
       "      <td>1</td>\n",
       "      <td>27</td>\n",
       "      <td>1</td>\n",
       "      <td>1</td>\n",
       "      <td>201607</td>\n",
       "    </tr>\n",
       "  </tbody>\n",
       "</table>\n",
       "<p>10 rows × 124 columns</p>\n",
       "</div>"
      ],
      "text/plain": [
       "   max_trim  max_sem   desv_sem  prom_bim  max_mes_anterior  \\\n",
       "0         7        7   2.857738       3.5                 7   \n",
       "1        17       17   7.641989      12.0                17   \n",
       "2        27       36  12.868566      13.5                27   \n",
       "3        27       27  10.888832      13.5                27   \n",
       "4        32       32  11.651895      10.0                20   \n",
       "5        30       32  11.906581      28.5                27   \n",
       "6         0        0   0.000000       0.0                 0   \n",
       "7         0        0   0.000000       0.0                 0   \n",
       "8         0        0   0.000000       0.0                 0   \n",
       "9        12       12   6.000000       6.0                12   \n",
       "\n",
       "   prom_mes_anterior   prom_sem  max_bim  mejor_gestion  prom_trim  \\\n",
       "0                7.0   1.166667        7              0   2.333333   \n",
       "1               17.0   8.000000       17              0  13.666667   \n",
       "2               27.0  21.000000       27              0  14.000000   \n",
       "3               27.0   4.833333       27              0   9.000000   \n",
       "4               20.0  20.833333       20              0  17.333333   \n",
       "5               27.0  22.833333       30              0  28.333333   \n",
       "6                0.0   0.000000        0              0   0.000000   \n",
       "7                0.0   0.000000        0              0   0.000000   \n",
       "8                0.0   0.000000        0              0   0.000000   \n",
       "9               12.0   3.000000       12              0   4.000000   \n",
       "\n",
       "       ...        pc_vi_no_rotativos_entidad  dh_min_dia_entradas  \\\n",
       "0      ...                               0.0                    0   \n",
       "1      ...                               0.0                    2   \n",
       "2      ...                               0.0                    7   \n",
       "3      ...                               0.0                    0   \n",
       "4      ...                               0.0                   19   \n",
       "5      ...                               0.0                    7   \n",
       "6      ...                               0.0                    0   \n",
       "7      ...                               0.0                    1   \n",
       "8      ...                               0.0                    2   \n",
       "9      ...                               0.0                    0   \n",
       "\n",
       "   pcons_hipotecario_vivienda  gsm_mejor_gestion_3m  dh_avg_dia_salidas  \\\n",
       "0                           0                     0            0.000000   \n",
       "1                           0                     0            8.810053   \n",
       "2                           0                     0           10.500000   \n",
       "3                           0                     0            0.000000   \n",
       "4                           0                     0            9.190000   \n",
       "5                           0                     0           10.500000   \n",
       "6                           0                     0            0.000000   \n",
       "7                           0                     0            9.591059   \n",
       "8                           1                     0           10.336827   \n",
       "9                           0                     0            0.000000   \n",
       "\n",
       "   y_auto_cura  llave  segmentoestructural  subsegmentoestructural  \\\n",
       "0            0      2                    1                       1   \n",
       "1            0      5                    1                       1   \n",
       "2            0      9                    1                       1   \n",
       "3            0     12                    1                       1   \n",
       "4            0     15                    1                       1   \n",
       "5            0     17                    1                       1   \n",
       "6            1     20                    1                       1   \n",
       "7            1     22                    1                       1   \n",
       "8            1     26                    1                       1   \n",
       "9            1     27                    1                       1   \n",
       "\n",
       "   anhomes_ciclo  \n",
       "0         201608  \n",
       "1         201611  \n",
       "2         201705  \n",
       "3         201609  \n",
       "4         201702  \n",
       "5         201705  \n",
       "6         201607  \n",
       "7         201612  \n",
       "8         201706  \n",
       "9         201607  \n",
       "\n",
       "[10 rows x 124 columns]"
      ]
     },
     "execution_count": 28,
     "metadata": {},
     "output_type": "execute_result"
    }
   ],
   "source": [
    "dataframe = pd.read_csv(r\"Desktop/Base_entrenamiento.csv\")\n",
    "dataframe.head(10)"
   ]
  },
  {
   "cell_type": "code",
   "execution_count": null,
   "metadata": {},
   "outputs": [],
   "source": []
  },
  {
   "cell_type": "code",
   "execution_count": 29,
   "metadata": {},
   "outputs": [
    {
     "name": "stdout",
     "output_type": "stream",
     "text": [
      "y_auto_cura\n",
      "0     6152\n",
      "1    13848\n",
      "dtype: int64\n"
     ]
    }
   ],
   "source": [
    "print(dataframe.groupby('y_auto_cura').size())"
   ]
  },
  {
   "cell_type": "code",
   "execution_count": 30,
   "metadata": {},
   "outputs": [
    {
     "data": {
      "text/plain": [
       "<seaborn.axisgrid.FacetGrid at 0x291d5775470>"
      ]
     },
     "execution_count": 30,
     "metadata": {},
     "output_type": "execute_result"
    },
    {
     "data": {
      "image/png": "[encoded data removed]",
      "text/plain": [
       "<matplotlib.figure.Figure at 0x291d576a898>"
      ]
     },
     "metadata": {},
     "output_type": "display_data"
    }
   ],
   "source": [
    "sb.factorplot('y_auto_cura',data=dataframe,kind=\"count\", aspect=3)"
   ]
  },
  {
   "cell_type": "code",
   "execution_count": 31,
   "metadata": {},
   "outputs": [
    {
     "name": "stdout",
     "output_type": "stream",
     "text": [
      "Index(['max_trim', 'max_sem', 'desv_sem', 'max_bim', 'desv_trim'], dtype='object')\n"
     ]
    },
    {
     "name": "stderr",
     "output_type": "stream",
     "text": [
      "C:\\Users\\W\\Anaconda3\\lib\\site-packages\\sklearn\\feature_selection\\univariate_selection.py:113: UserWarning: Features [ 28  31  60  62  64  68  70  77  90  91  93  97 102 120 121] are constant.\n",
      "  UserWarning)\n",
      "C:\\Users\\W\\Anaconda3\\lib\\site-packages\\sklearn\\feature_selection\\univariate_selection.py:114: RuntimeWarning: invalid value encountered in true_divide\n",
      "  f = msb / msw\n"
     ]
    }
   ],
   "source": [
    "X=dataframe.drop(['y_auto_cura'], axis=1)\n",
    "y=dataframe['y_auto_cura']\n",
    " \n",
    "best=SelectKBest(k=5)\n",
    "X_new = best.fit_transform(X, y)\n",
    "X_new.shape\n",
    "selected = best.get_support(indices=True)\n",
    "print(X.columns[selected])"
   ]
  },
  {
   "cell_type": "code",
   "execution_count": 35,
   "metadata": {},
   "outputs": [
    {
     "data": {
      "text/plain": [
       "<matplotlib.axes._subplots.AxesSubplot at 0x291d3f7b390>"
      ]
     },
     "execution_count": 35,
     "metadata": {},
     "output_type": "execute_result"
    },
    {
     "data": {
      "image/png": "[encoded data removed]",
      "text/plain": [
       "<matplotlib.figure.Figure at 0x291d3f44c88>"
      ]
     },
     "metadata": {},
     "output_type": "display_data"
    }
   ],
   "source": [
    "used_features =X.columns[selected]\n",
    " \n",
    "colormap = plt.cm.viridis\n",
    "plt.figure(figsize=(10,10))\n",
    "plt.title('Pearson Correlation of Features', y=1.05, size=15)\n",
    "sb.heatmap(dataframe[used_features].astype(float).corr(),linewidths=0.1,vmax=1.0, square=True, cmap=colormap, linecolor='white', annot=True)"
   ]
  },
  {
   "cell_type": "code",
   "execution_count": 33,
   "metadata": {},
   "outputs": [],
   "source": [
    "# Split dataset in training and test datasets\n",
    "X_train, X_test = train_test_split(dataframe, test_size=1, random_state=5) \n",
    "y_train =X_train[\"y_auto_cura\"]\n",
    "y_test = X_test[\"y_auto_cura\"]"
   ]
  },
  {
   "cell_type": "code",
   "execution_count": 34,
   "metadata": {},
   "outputs": [
    {
     "name": "stdout",
     "output_type": "stream",
     "text": [
      "Precisión en el set de Entrenamiento: 0.71\n",
      "Precisión en el set de Test: 1.00\n"
     ]
    }
   ],
   "source": [
    "gnb = GaussianNB()\n",
    "# Train classifier\n",
    "gnb.fit(\n",
    "    X_train[used_features].values,\n",
    "    y_train\n",
    ")\n",
    "y_pred = gnb.predict(X_test[used_features])\n",
    " \n",
    "print('Precisión en el set de Entrenamiento: {:.2f}'\n",
    "     .format(gnb.score(X_train[used_features], y_train)))\n",
    "print('Precisión en el set de Test: {:.2f}'\n",
    "     .format(gnb.score(X_test[used_features], y_test)))"
   ]
  },
  {
   "cell_type": "code",
   "execution_count": 26,
   "metadata": {},
   "outputs": [],
   "source": [
    "#print(gnb.predict([0, 11,4,490731195,0, 0,0,2,0,0,0,1,0,0,0, 1,0,0,0,0, 3000000,0,0,0,0,0,0,0,0,0,0,1,0,0,0,0,0,13,0,0,0,0,0,0,0,0,3000000,0,0,0,765000,0,0,0,0,3000000,0,0,0,3000000,0,0,0,0,0,0,0,0,0,0,0,0,0,0,0,0,0,0,0,1606500,0,0,2,0,0,0,0,0,0,0,0,0,0,0,0,0,0,0,0,0,0,0,0,0,0,0,0,0,0,0,0,0,0,0,0,0,0,0,0,0,1,1,1,201607\n",
    "#]))\n",
    "#Resultado esperado 0-, 1\n",
    "\n",
    "\n",
    "#0, 11,4,490731195,0, 0,0,1,833333333,0,0,0,1,0,0,0, 1,0,0,0,0, 3000000,0,0,0,0,0,0,0,0,0,0,1,0,0,0,0,0,13,0,0,0,0,0,0,0,0,3000000,0,0,0,765000,0,0,0,0,3000000,0,0,0,3000000,0,0,0,0,0,0,0,0,0,0,0,0,0,0,0,0,0,0,0,1606500,0,0,2,0,0,0,0,0,0,0,0,0,0,0,0,0,0,0,0,0,0,0,0,0,0,0,0,0,0,0,0,0,0,0,0,0,0,0,0,0,1,1,1,201607\n"
   ]
  },
  {
   "cell_type": "code",
   "execution_count": null,
   "metadata": {},
   "outputs": [],
   "source": []
  },
  {
   "cell_type": "code",
   "execution_count": 41,
   "metadata": {},
   "outputs": [
    {
     "name": "stdout",
     "output_type": "stream",
     "text": [
      "[1 1]\n"
     ]
    }
   ],
   "source": [
    "\n",
    "print(gnb.predict([[0,        11,     0,       0,        2],\n",
    "                   [17,        17,    12,       17,         4] ]))\n",
    "#Resultado esperado 0 , 1-Autocura"
   ]
  },
  {
   "cell_type": "code",
   "execution_count": null,
   "metadata": {},
   "outputs": [],
   "source": [
    "\n"
   ]
  },
  {
   "cell_type": "code",
   "execution_count": null,
   "metadata": {},
   "outputs": [],
   "source": []
  }
 ],
 "metadata": {
  "kernelspec": {
   "display_name": "Python 3",
   "language": "python",
   "name": "python3"
  },
  "language_info": {
   "codemirror_mode": {
    "name": "ipython",
    "version": 3
   },
   "file_extension": ".py",
   "mimetype": "text/x-python",
   "name": "python",
   "nbconvert_exporter": "python",
   "pygments_lexer": "ipython3",
   "version": "3.6.3"
  }
 },
 "nbformat": 4,
 "nbformat_minor": 2
}
