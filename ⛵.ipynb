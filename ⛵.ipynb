{
  "nbformat": 4,
  "nbformat_minor": 0,
  "metadata": {
    "colab": {
      "name": "⛵.ipynb",
      "provenance": [],
      "toc_visible": true,
      "authorship_tag": "ABX9TyP+M9WVTmzl9w9a22qz+rb7",
      "include_colab_link": true
    },
    "kernelspec": {
      "name": "python3",
      "display_name": "Python 3"
    }
  },
  "cells": [
    {
      "cell_type": "markdown",
      "metadata": {
        "id": "view-in-github",
        "colab_type": "text"
      },
      "source": [
        "<a href=\"https://colab.research.google.com/github/marisbotero/MachineLearning/blob/master/%E2%9B%B5.ipynb\" target=\"_parent\"><img src=\"https://colab.research.google.com/assets/colab-badge.svg\" alt=\"Open In Colab\"/></a>"
      ]
    },
    {
      "cell_type": "markdown",
      "metadata": {
        "id": "4Emqn27T9MNm"
      },
      "source": [
        "## 🚢Titanic Reloaded💎\n",
        "\n",
        "- analysis\n",
        "- visualizations\n",
        "- machine learning classifiers for predict passenger survival status\n"
      ]
    },
    {
      "cell_type": "markdown",
      "metadata": {
        "id": "I6UEeHYSH4pe"
      },
      "source": [
        "### Exploration Data Analysis"
      ]
    },
    {
      "cell_type": "code",
      "metadata": {
        "id": "aWAGhtji9Ipz"
      },
      "source": [
        "import pandas as pd\n",
        "import numpy as np"
      ],
      "execution_count": null,
      "outputs": []
    },
    {
      "cell_type": "code",
      "metadata": {
        "id": "nEXYaeYfKO7n"
      },
      "source": [
        "#load file\n",
        "file_name = (\"https://raw.githubusercontent.com/datasciencedojo/datasets/master/titanic.csv\")\n",
        "df = pd.read_csv(file_name)"
      ],
      "execution_count": null,
      "outputs": []
    },
    {
      "cell_type": "code",
      "metadata": {
        "id": "Fk6VZDw-KYXM"
      },
      "source": [
        "df.head()"
      ],
      "execution_count": null,
      "outputs": []
    },
    {
      "cell_type": "code",
      "metadata": {
        "id": "rITB9UuxK24O"
      },
      "source": [
        "#row and column count\n",
        "df.shape"
      ],
      "execution_count": null,
      "outputs": []
    },
    {
      "cell_type": "code",
      "metadata": {
        "id": "BUwAsaxSK71e"
      },
      "source": [
        "print (\"The shape of the data is (row, column):\"+ str(df.shape))\n",
        "print (df.info())"
      ],
      "execution_count": null,
      "outputs": []
    },
    {
      "cell_type": "code",
      "metadata": {
        "id": "cqyqOQmeLNKX"
      },
      "source": [
        "p_train = 0.80 \n",
        "df['is_train'] = np.random.uniform(0, 1, len(df)) <= p_train\n",
        "train, test = df[df['is_train']==True], df[df['is_train']==False]\n",
        "df = df.drop('is_train', 1)\n",
        "\n",
        "print(\"Train: \", len(train))\n",
        "print(\"Test: \", len(test))"
      ],
      "execution_count": null,
      "outputs": []
    },
    {
      "cell_type": "markdown",
      "metadata": {
        "id": "Jy7aSg06L_YS"
      },
      "source": [
        "## 🤓Take a look at the overview of the dataset"
      ]
    },
    {
      "cell_type": "code",
      "metadata": {
        "id": "DuXv1pOdLsCR"
      },
      "source": [
        "train.head()"
      ],
      "execution_count": null,
      "outputs": []
    },
    {
      "cell_type": "code",
      "metadata": {
        "id": "tFNRUSsbLvcm"
      },
      "source": [
        "test.head()"
      ],
      "execution_count": null,
      "outputs": []
    },
    {
      "cell_type": "code",
      "metadata": {
        "id": "kvI5LGc3Lx_z"
      },
      "source": [
        "train.sample(5)"
      ],
      "execution_count": null,
      "outputs": []
    },
    {
      "cell_type": "markdown",
      "metadata": {
        "id": "gLr-2JZ8MWvh"
      },
      "source": [
        "The data has split into two groups:\n",
        "\n",
        "- training set :It includes our target variable(dependent variable), passenger survival status(also known as the ground truth from the Titanic tragedy) along with other independent features like gender, class, fare, and Pclass.\n",
        "- test set:It should be used to see how well our model performs on unseen data. \n"
      ]
    },
    {
      "cell_type": "markdown",
      "metadata": {
        "id": "aNfgU7-hMz-1"
      },
      "source": [
        "# 💜 Variable types 💜\n",
        "# Categorical:\n",
        "### Nominal:\n",
        "variables that have two or more categories, but which do not have an intrinsic order\n",
        "- Cabin\n",
        "- Embarked\n",
        "\n",
        "### Dichotomous: \n",
        "Nominal variable with only two categories\n",
        "- Sex\n",
        "\n",
        "### Ordinal:\n",
        "variables that have two or more categories just like nominal variables. Only the categories can also be ordered or ranked.\n",
        "- Pclass\n",
        "\n",
        "#Numeric:\n",
        "\n",
        "###Discrete:\n",
        "- Passenger ID(Unique identifing # for each passenger)\n",
        "- SibSp\n",
        "- Parch\n",
        "- Survived (Our outcome or dependent variable)\n",
        "\n",
        "### Continous\n",
        "- Age\n",
        "- Fare\n",
        "\n",
        "#Text Variable\n",
        "\n",
        "- Ticket (Ticket number for passenger.)\n",
        "- Name( Name of the passenger.)"
      ]
    },
    {
      "cell_type": "markdown",
      "metadata": {
        "id": "KDEHqwqTQKX8"
      },
      "source": [
        "# ⚡Data Cleaning"
      ]
    },
    {
      "cell_type": "code",
      "metadata": {
        "id": "6YrpjmOZQXeC"
      },
      "source": [
        "## saving passenger id in advance in order to submit later. \n",
        "passengerid = test.PassengerId\n",
        "## We will drop PassengerID and Ticket since it will be useless for our data. \n",
        "#train.drop(['PassengerId'], axis=1, inplace=True)\n",
        "#test.drop(['PassengerId'], axis=1, inplace=True)\n",
        "\n",
        "print (train.info())\n",
        "print (\"*\"*40)\n",
        "print (test.info())"
      ],
      "execution_count": null,
      "outputs": []
    },
    {
      "cell_type": "code",
      "metadata": {
        "id": "qGtyAw7GQ3Cw"
      },
      "source": [
        "def missing_percentage(df):\n",
        "    \"\"\"This function takes a DataFrame(df) as input and returns two columns, total missing values and total missing values percentage\"\"\"\n",
        "    total = df.isnull().sum().sort_values(ascending = False)\n",
        "    percent = round(df.isnull().sum().sort_values(ascending = False)/len(df)*100,2)\n",
        "    return pd.concat([total, percent], axis=1, keys=['Total','Percent'])"
      ],
      "execution_count": null,
      "outputs": []
    },
    {
      "cell_type": "code",
      "metadata": {
        "id": "uA6dRojcRB6A",
        "colab": {
          "base_uri": "https://localhost:8080/",
          "height": 437
        },
        "outputId": "a4639567-a737-44f1-b609-fe243e1760af"
      },
      "source": [
        "missing_percentage(train)"
      ],
      "execution_count": null,
      "outputs": [
        {
          "output_type": "execute_result",
          "data": {
            "text/html": [
              "<div>\n",
              "<style scoped>\n",
              "    .dataframe tbody tr th:only-of-type {\n",
              "        vertical-align: middle;\n",
              "    }\n",
              "\n",
              "    .dataframe tbody tr th {\n",
              "        vertical-align: top;\n",
              "    }\n",
              "\n",
              "    .dataframe thead th {\n",
              "        text-align: right;\n",
              "    }\n",
              "</style>\n",
              "<table border=\"1\" class=\"dataframe\">\n",
              "  <thead>\n",
              "    <tr style=\"text-align: right;\">\n",
              "      <th></th>\n",
              "      <th>Total</th>\n",
              "      <th>Percent</th>\n",
              "    </tr>\n",
              "  </thead>\n",
              "  <tbody>\n",
              "    <tr>\n",
              "      <th>Cabin</th>\n",
              "      <td>534</td>\n",
              "      <td>77.06</td>\n",
              "    </tr>\n",
              "    <tr>\n",
              "      <th>Age</th>\n",
              "      <td>145</td>\n",
              "      <td>20.92</td>\n",
              "    </tr>\n",
              "    <tr>\n",
              "      <th>Embarked</th>\n",
              "      <td>2</td>\n",
              "      <td>0.29</td>\n",
              "    </tr>\n",
              "    <tr>\n",
              "      <th>is_train</th>\n",
              "      <td>0</td>\n",
              "      <td>0.00</td>\n",
              "    </tr>\n",
              "    <tr>\n",
              "      <th>Fare</th>\n",
              "      <td>0</td>\n",
              "      <td>0.00</td>\n",
              "    </tr>\n",
              "    <tr>\n",
              "      <th>Ticket</th>\n",
              "      <td>0</td>\n",
              "      <td>0.00</td>\n",
              "    </tr>\n",
              "    <tr>\n",
              "      <th>Parch</th>\n",
              "      <td>0</td>\n",
              "      <td>0.00</td>\n",
              "    </tr>\n",
              "    <tr>\n",
              "      <th>SibSp</th>\n",
              "      <td>0</td>\n",
              "      <td>0.00</td>\n",
              "    </tr>\n",
              "    <tr>\n",
              "      <th>Sex</th>\n",
              "      <td>0</td>\n",
              "      <td>0.00</td>\n",
              "    </tr>\n",
              "    <tr>\n",
              "      <th>Name</th>\n",
              "      <td>0</td>\n",
              "      <td>0.00</td>\n",
              "    </tr>\n",
              "    <tr>\n",
              "      <th>Pclass</th>\n",
              "      <td>0</td>\n",
              "      <td>0.00</td>\n",
              "    </tr>\n",
              "    <tr>\n",
              "      <th>Survived</th>\n",
              "      <td>0</td>\n",
              "      <td>0.00</td>\n",
              "    </tr>\n",
              "    <tr>\n",
              "      <th>PassengerId</th>\n",
              "      <td>0</td>\n",
              "      <td>0.00</td>\n",
              "    </tr>\n",
              "  </tbody>\n",
              "</table>\n",
              "</div>"
            ],
            "text/plain": [
              "             Total  Percent\n",
              "Cabin          534    77.06\n",
              "Age            145    20.92\n",
              "Embarked         2     0.29\n",
              "is_train         0     0.00\n",
              "Fare             0     0.00\n",
              "Ticket           0     0.00\n",
              "Parch            0     0.00\n",
              "SibSp            0     0.00\n",
              "Sex              0     0.00\n",
              "Name             0     0.00\n",
              "Pclass           0     0.00\n",
              "Survived         0     0.00\n",
              "PassengerId      0     0.00"
            ]
          },
          "metadata": {
            "tags": []
          },
          "execution_count": 14
        }
      ]
    },
    {
      "cell_type": "code",
      "metadata": {
        "id": "luSx2pnkRHG1",
        "colab": {
          "base_uri": "https://localhost:8080/",
          "height": 437
        },
        "outputId": "d8b02192-1ab9-4332-b141-9fba05024dfd"
      },
      "source": [
        "missing_percentage(test)"
      ],
      "execution_count": null,
      "outputs": [
        {
          "output_type": "execute_result",
          "data": {
            "text/html": [
              "<div>\n",
              "<style scoped>\n",
              "    .dataframe tbody tr th:only-of-type {\n",
              "        vertical-align: middle;\n",
              "    }\n",
              "\n",
              "    .dataframe tbody tr th {\n",
              "        vertical-align: top;\n",
              "    }\n",
              "\n",
              "    .dataframe thead th {\n",
              "        text-align: right;\n",
              "    }\n",
              "</style>\n",
              "<table border=\"1\" class=\"dataframe\">\n",
              "  <thead>\n",
              "    <tr style=\"text-align: right;\">\n",
              "      <th></th>\n",
              "      <th>Total</th>\n",
              "      <th>Percent</th>\n",
              "    </tr>\n",
              "  </thead>\n",
              "  <tbody>\n",
              "    <tr>\n",
              "      <th>Cabin</th>\n",
              "      <td>153</td>\n",
              "      <td>77.27</td>\n",
              "    </tr>\n",
              "    <tr>\n",
              "      <th>Age</th>\n",
              "      <td>32</td>\n",
              "      <td>16.16</td>\n",
              "    </tr>\n",
              "    <tr>\n",
              "      <th>is_train</th>\n",
              "      <td>0</td>\n",
              "      <td>0.00</td>\n",
              "    </tr>\n",
              "    <tr>\n",
              "      <th>Embarked</th>\n",
              "      <td>0</td>\n",
              "      <td>0.00</td>\n",
              "    </tr>\n",
              "    <tr>\n",
              "      <th>Fare</th>\n",
              "      <td>0</td>\n",
              "      <td>0.00</td>\n",
              "    </tr>\n",
              "    <tr>\n",
              "      <th>Ticket</th>\n",
              "      <td>0</td>\n",
              "      <td>0.00</td>\n",
              "    </tr>\n",
              "    <tr>\n",
              "      <th>Parch</th>\n",
              "      <td>0</td>\n",
              "      <td>0.00</td>\n",
              "    </tr>\n",
              "    <tr>\n",
              "      <th>SibSp</th>\n",
              "      <td>0</td>\n",
              "      <td>0.00</td>\n",
              "    </tr>\n",
              "    <tr>\n",
              "      <th>Sex</th>\n",
              "      <td>0</td>\n",
              "      <td>0.00</td>\n",
              "    </tr>\n",
              "    <tr>\n",
              "      <th>Name</th>\n",
              "      <td>0</td>\n",
              "      <td>0.00</td>\n",
              "    </tr>\n",
              "    <tr>\n",
              "      <th>Pclass</th>\n",
              "      <td>0</td>\n",
              "      <td>0.00</td>\n",
              "    </tr>\n",
              "    <tr>\n",
              "      <th>Survived</th>\n",
              "      <td>0</td>\n",
              "      <td>0.00</td>\n",
              "    </tr>\n",
              "    <tr>\n",
              "      <th>PassengerId</th>\n",
              "      <td>0</td>\n",
              "      <td>0.00</td>\n",
              "    </tr>\n",
              "  </tbody>\n",
              "</table>\n",
              "</div>"
            ],
            "text/plain": [
              "             Total  Percent\n",
              "Cabin          153    77.27\n",
              "Age             32    16.16\n",
              "is_train         0     0.00\n",
              "Embarked         0     0.00\n",
              "Fare             0     0.00\n",
              "Ticket           0     0.00\n",
              "Parch            0     0.00\n",
              "SibSp            0     0.00\n",
              "Sex              0     0.00\n",
              "Name             0     0.00\n",
              "Pclass           0     0.00\n",
              "Survived         0     0.00\n",
              "PassengerId      0     0.00"
            ]
          },
          "metadata": {
            "tags": []
          },
          "execution_count": 15
        }
      ]
    },
    {
      "cell_type": "code",
      "metadata": {
        "id": "jUWTrUaOT6Np"
      },
      "source": [
        "def percent_value_counts(df, feature):\n",
        "    \"\"\"This function takes in a dataframe and a column and finds the percentage of the value_counts\"\"\"\n",
        "    percent = pd.DataFrame(round(df.loc[:,feature].value_counts(dropna=False, normalize=True)*100,2))\n",
        "    ## creating a df with th\n",
        "    total = pd.DataFrame(df.loc[:,feature].value_counts(dropna=False))\n",
        "    ## concating percent and total dataframe\n",
        "\n",
        "    total.columns = [\"Total\"]\n",
        "    percent.columns = ['Percent']\n",
        "    return pd.concat([total, percent], axis = 1)\n",
        "    "
      ],
      "execution_count": null,
      "outputs": []
    },
    {
      "cell_type": "code",
      "metadata": {
        "id": "vYGL9uFSUAh4",
        "colab": {
          "base_uri": "https://localhost:8080/",
          "height": 167
        },
        "outputId": "d8b9d918-c8ac-48f7-cf9a-7dcc03908dc3"
      },
      "source": [
        "percent_value_counts(train, 'Embarked')"
      ],
      "execution_count": null,
      "outputs": [
        {
          "output_type": "execute_result",
          "data": {
            "text/html": [
              "<div>\n",
              "<style scoped>\n",
              "    .dataframe tbody tr th:only-of-type {\n",
              "        vertical-align: middle;\n",
              "    }\n",
              "\n",
              "    .dataframe tbody tr th {\n",
              "        vertical-align: top;\n",
              "    }\n",
              "\n",
              "    .dataframe thead th {\n",
              "        text-align: right;\n",
              "    }\n",
              "</style>\n",
              "<table border=\"1\" class=\"dataframe\">\n",
              "  <thead>\n",
              "    <tr style=\"text-align: right;\">\n",
              "      <th></th>\n",
              "      <th>Total</th>\n",
              "      <th>Percent</th>\n",
              "    </tr>\n",
              "  </thead>\n",
              "  <tbody>\n",
              "    <tr>\n",
              "      <th>S</th>\n",
              "      <td>509</td>\n",
              "      <td>73.45</td>\n",
              "    </tr>\n",
              "    <tr>\n",
              "      <th>C</th>\n",
              "      <td>119</td>\n",
              "      <td>17.17</td>\n",
              "    </tr>\n",
              "    <tr>\n",
              "      <th>Q</th>\n",
              "      <td>63</td>\n",
              "      <td>9.09</td>\n",
              "    </tr>\n",
              "    <tr>\n",
              "      <th>NaN</th>\n",
              "      <td>2</td>\n",
              "      <td>0.29</td>\n",
              "    </tr>\n",
              "  </tbody>\n",
              "</table>\n",
              "</div>"
            ],
            "text/plain": [
              "     Total  Percent\n",
              "S      509    73.45\n",
              "C      119    17.17\n",
              "Q       63     9.09\n",
              "NaN      2     0.29"
            ]
          },
          "metadata": {
            "tags": []
          },
          "execution_count": 17
        }
      ]
    },
    {
      "cell_type": "code",
      "metadata": {
        "id": "Cbrbb7VwUDfQ",
        "colab": {
          "base_uri": "https://localhost:8080/",
          "height": 107
        },
        "outputId": "0bf1cabc-6ae5-45bb-cb15-7c0efda2a1e0"
      },
      "source": [
        "train[train.Embarked.isnull()]"
      ],
      "execution_count": null,
      "outputs": [
        {
          "output_type": "execute_result",
          "data": {
            "text/html": [
              "<div>\n",
              "<style scoped>\n",
              "    .dataframe tbody tr th:only-of-type {\n",
              "        vertical-align: middle;\n",
              "    }\n",
              "\n",
              "    .dataframe tbody tr th {\n",
              "        vertical-align: top;\n",
              "    }\n",
              "\n",
              "    .dataframe thead th {\n",
              "        text-align: right;\n",
              "    }\n",
              "</style>\n",
              "<table border=\"1\" class=\"dataframe\">\n",
              "  <thead>\n",
              "    <tr style=\"text-align: right;\">\n",
              "      <th></th>\n",
              "      <th>PassengerId</th>\n",
              "      <th>Survived</th>\n",
              "      <th>Pclass</th>\n",
              "      <th>Name</th>\n",
              "      <th>Sex</th>\n",
              "      <th>Age</th>\n",
              "      <th>SibSp</th>\n",
              "      <th>Parch</th>\n",
              "      <th>Ticket</th>\n",
              "      <th>Fare</th>\n",
              "      <th>Cabin</th>\n",
              "      <th>Embarked</th>\n",
              "      <th>is_train</th>\n",
              "    </tr>\n",
              "  </thead>\n",
              "  <tbody>\n",
              "    <tr>\n",
              "      <th>61</th>\n",
              "      <td>62</td>\n",
              "      <td>1</td>\n",
              "      <td>1</td>\n",
              "      <td>Icard, Miss. Amelie</td>\n",
              "      <td>female</td>\n",
              "      <td>38.0</td>\n",
              "      <td>0</td>\n",
              "      <td>0</td>\n",
              "      <td>113572</td>\n",
              "      <td>80.0</td>\n",
              "      <td>B28</td>\n",
              "      <td>NaN</td>\n",
              "      <td>True</td>\n",
              "    </tr>\n",
              "    <tr>\n",
              "      <th>829</th>\n",
              "      <td>830</td>\n",
              "      <td>1</td>\n",
              "      <td>1</td>\n",
              "      <td>Stone, Mrs. George Nelson (Martha Evelyn)</td>\n",
              "      <td>female</td>\n",
              "      <td>62.0</td>\n",
              "      <td>0</td>\n",
              "      <td>0</td>\n",
              "      <td>113572</td>\n",
              "      <td>80.0</td>\n",
              "      <td>B28</td>\n",
              "      <td>NaN</td>\n",
              "      <td>True</td>\n",
              "    </tr>\n",
              "  </tbody>\n",
              "</table>\n",
              "</div>"
            ],
            "text/plain": [
              "     PassengerId  Survived  Pclass  ... Cabin Embarked  is_train\n",
              "61            62         1       1  ...   B28      NaN      True\n",
              "829          830         1       1  ...   B28      NaN      True\n",
              "\n",
              "[2 rows x 13 columns]"
            ]
          },
          "metadata": {
            "tags": []
          },
          "execution_count": 18
        }
      ]
    },
    {
      "cell_type": "code",
      "metadata": {
        "id": "SQOzscifUKKi"
      },
      "source": [
        ""
      ],
      "execution_count": null,
      "outputs": []
    },
    {
      "cell_type": "markdown",
      "metadata": {
        "id": "tK4UX7wEUTqZ"
      },
      "source": [
        "# 🌻Visualization "
      ]
    },
    {
      "cell_type": "code",
      "metadata": {
        "id": "0b_QRAd_UcTo"
      },
      "source": [
        ""
      ],
      "execution_count": null,
      "outputs": []
    }
  ]
}