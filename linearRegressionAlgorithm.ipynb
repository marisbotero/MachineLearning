{
  "nbformat": 4,
  "nbformat_minor": 0,
  "metadata": {
    "colab": {
      "name": "linearRegressionAlgorithm.ipynb",
      "provenance": [],
      "authorship_tag": "ABX9TyPuCLzQ4DqCouE9o9JEbjBf",
      "include_colab_link": true
    },
    "kernelspec": {
      "name": "python3",
      "display_name": "Python 3"
    },
    "language_info": {
      "name": "python"
    }
  },
  "cells": [
    {
      "cell_type": "markdown",
      "metadata": {
        "id": "view-in-github",
        "colab_type": "text"
      },
      "source": [
        "<a href=\"https://colab.research.google.com/github/marisbotero/MachineLearning/blob/master/linearRegressionAlgorithm.ipynb\" target=\"_parent\"><img src=\"https://colab.research.google.com/assets/colab-badge.svg\" alt=\"Open In Colab\"/></a>"
      ]
    },
    {
      "cell_type": "code",
      "metadata": {
        "id": "WA_87L1J8HnP"
      },
      "source": [
        "import numpy as np\n",
        "import matplotlib.pyplot as plt"
      ],
      "execution_count": 2,
      "outputs": []
    },
    {
      "cell_type": "code",
      "metadata": {
        "id": "Z7sIVO2x-2px"
      },
      "source": [
        "def estimate_b0_b1(x,y):\n",
        "  n = np.size(x)\n",
        "  # obtenemos los promedios de x y de y\n",
        "  m_x, m_y = np.mean(x), np.mean(y)\n",
        "\n",
        "\n",
        "  #calcular la sumatoria de xy y mi sumatoria de xy\n",
        "\n",
        "  Sumatoria_xy = np.sum((x-m_x)*(y-m_y))\n",
        "  Sumatoria_xx = np.sum(x*(x-m_x))\n",
        "\n",
        "\n",
        "  #coeficientes de regresión\n",
        "  b_1 = Sumatoria_xy / Sumatoria_xx\n",
        "  b_0 = m_y - b_1*m_x\n",
        "\n",
        "  return(b_0, b_1)\n",
        "\n"
      ],
      "execution_count": 4,
      "outputs": []
    },
    {
      "cell_type": "code",
      "metadata": {
        "id": "zBdcizR3Ey5d"
      },
      "source": [
        "#función del grafico\n",
        "\n",
        "def plot_regression(x,y,b):\n",
        "  plt.scatter(x,y, color= \"blue\", marker= \"o\", s= 30)\n",
        "\n",
        "  y_pred = b[0]+ b[1]*x\n",
        "  plt.plot(x, y_pred, color = \"black\")\n",
        "\n",
        "  #etiquetado\n",
        "  plt.xlabel('X-Independiente')\n",
        "  plt.ylabel('Y-Dependiente')\n",
        "  plt.show()\n",
        "\n"
      ],
      "execution_count": 19,
      "outputs": []
    },
    {
      "cell_type": "code",
      "metadata": {
        "id": "IZE7Og9eGysx"
      },
      "source": [
        "#Código main\n",
        "\n",
        "def main():\n",
        "  #Dataset\n",
        "  x= np.array([1,2,3,4,5])\n",
        "  y= np.array([2,3,5,6,5])\n",
        "\n",
        "  #Obtenemos b1 y b2\n",
        "  b= estimate_b0_b1(x,y)\n",
        "  print(\"los valores b0= {}, b1={}\".format(b[0], b[1]))\n",
        "  #graficamos la linea de regresión\n",
        "  plot_regression(x, y, b)"
      ],
      "execution_count": 20,
      "outputs": []
    },
    {
      "cell_type": "code",
      "metadata": {
        "colab": {
          "base_uri": "https://localhost:8080/",
          "height": 297
        },
        "id": "G2-EQNZmK0Ag",
        "outputId": "c2099bb3-06d2-443a-f85d-e1f51099e6e3"
      },
      "source": [
        "if __name__== \"__main__\":\n",
        "  main()\n"
      ],
      "execution_count": 21,
      "outputs": [
        {
          "output_type": "stream",
          "text": [
            "los valores b0= 1.5, b1=0.9\n"
          ],
          "name": "stdout"
        },
        {
          "output_type": "display_data",
          "data": {
            "image/png": "[encoded data removed]",
            "text/plain": [
              "<Figure size 432x288 with 1 Axes>"
            ]
          },
          "metadata": {
            "tags": [],
            "needs_background": "light"
          }
        }
      ]
    }
  ]
}