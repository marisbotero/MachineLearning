{
  "nbformat": 4,
  "nbformat_minor": 0,
  "metadata": {
    "colab": {
      "name": "age_features.ipynb",
      "provenance": [],
      "include_colab_link": true
    },
    "kernelspec": {
      "name": "python3",
      "display_name": "Python 3"
    }
  },
  "cells": [
    {
      "cell_type": "markdown",
      "metadata": {
        "id": "view-in-github",
        "colab_type": "text"
      },
      "source": [
        "<a href=\"https://colab.research.google.com/github/marisbotero/MachineLearning/blob/master/age_features.ipynb\" target=\"_parent\"><img src=\"https://colab.research.google.com/assets/colab-badge.svg\" alt=\"Open In Colab\"/></a>"
      ]
    },
    {
      "cell_type": "code",
      "metadata": {
        "id": "iSjsQJO6slTi"
      },
      "source": [
        "from google.colab import drive\n",
        "#drive.mount('/content/drive')"
      ],
      "execution_count": null,
      "outputs": []
    },
    {
      "cell_type": "code",
      "metadata": {
        "id": "H7cju53KYGDs",
        "colab": {
          "base_uri": "https://localhost:8080/",
          "height": 54
        },
        "outputId": "705c706c-39fa-4d13-9e87-9cfd7fd005b8"
      },
      "source": [
        "#%cd drive/My\\ Drive/Colab\\ Notebooks/Datasets\n",
        "#%cd /content/drive\n",
        "!ls\n"
      ],
      "execution_count": null,
      "outputs": [
        {
          "output_type": "stream",
          "text": [
            "/content/drive/My Drive/Colab Notebooks/Datasets\n",
            "Age-Data  Fashion_MNIST  Heart_Sound  LSTM_words  PTB_Data  Urban-Sound\n"
          ],
          "name": "stdout"
        }
      ]
    },
    {
      "cell_type": "code",
      "metadata": {
        "id": "sexwrA9YseCB",
        "colab": {
          "base_uri": "https://localhost:8080/",
          "height": 90
        },
        "outputId": "c7169eff-c458-4e2b-9b34-59852a1620bf"
      },
      "source": [
        "import glob\n",
        "import os\n",
        "import numpy as np\n",
        "from PIL import Image\n",
        "\n",
        "\n",
        "def extract_features(parent_dir,file_ext=\"*.jpg\"):\n",
        "    age_imgs = []\n",
        "    labels = []\n",
        "    count_i = 0\n",
        "    \n",
        "    print (\"Loading files. This might take a while....\") \n",
        "    for sub_dir in os.listdir(parent_dir):\n",
        "        #print(sub_dir)\n",
        "        \n",
        "        for fn in glob.glob(os.path.join(parent_dir, sub_dir, file_ext)): #\n",
        "            img = Image.open(fn).convert('L')\n",
        "            #print (fn)\n",
        "            if (img.size[0] >= 90):\n",
        "                born_year = fn.split('/')[2].split('_')[1].split('-')[0]\n",
        "                photo_year = fn.split('/')[2].split('_')[2].split('.')[0]\n",
        "                age=int(photo_year)-int(born_year)\n",
        "                img=img.resize((200,200),Image.ANTIALIAS)\n",
        "                im=np.array(img)\n",
        "                age_imgs.append(im)\n",
        "                labels.append(age)   \n",
        "                count_i += 1\n",
        "    age_imgs = np.asarray(age_imgs).reshape(len(age_imgs),200,200,1)\n",
        "    \n",
        "    print(\"%d Loaded images\" %(count_i))\n",
        "    return age_imgs, np.array(labels, dtype = np.int)\n",
        "\n",
        "\n",
        "parent_dir = 'Age-Data'\n",
        "\n",
        "tr_features,tr_labels = extract_features(parent_dir)\n",
        "#np.save(parent_dir+'/age_features.npy',tr_features)\n",
        "#np.save(parent_dir+'/age_labels.npy',tr_labels)\n",
        "\n",
        "print (\"Data store at %s\" %(parent_dir+'/age_labels.npy'))\n",
        "print (\"              %s\" %(parent_dir+'/age_labels.npy'))"
      ],
      "execution_count": null,
      "outputs": [
        {
          "output_type": "stream",
          "text": [
            "Loading files. This might take a while....\n",
            "526 Loaded images\n",
            "Data store at Age-Data/age_labels.npy\n",
            "              Age-Data/age_labels.npy\n"
          ],
          "name": "stdout"
        }
      ]
    },
    {
      "cell_type": "code",
      "metadata": {
        "id": "8eYHX1GOthSn",
        "colab": {
          "base_uri": "https://localhost:8080/",
          "height": 51
        },
        "outputId": "a27a143a-4e93-478c-f5f6-6de3fd94fbec"
      },
      "source": [
        "print(tr_features.shape)\n",
        "print(tr_labels.shape)"
      ],
      "execution_count": null,
      "outputs": [
        {
          "output_type": "stream",
          "text": [
            "(526, 200, 200, 1)\n",
            "(526,)\n"
          ],
          "name": "stdout"
        }
      ]
    },
    {
      "cell_type": "code",
      "metadata": {
        "id": "0d4m5tZIuMbp"
      },
      "source": [
        "import h5py\n",
        "from sklearn.utils import shuffle\n",
        "\n",
        "# partiendo de la base de datos organizada para el uso \n",
        "# almacenada en las siguientes variables\n",
        "features=np.load(\"age_features.npy\")\n",
        "labels=np.load(\"age_labels.npy\")\n",
        "\n",
        "# Si se requiere se hace alguno de los siguientes procesos.\n",
        "# Mezclar aleatoriamente la base de datos\n",
        "x1, y1 = shuffle(features, labels)\n",
        "\n",
        "# O Separarla en entrenamieto y prueba (o si es necesario en validación)\n",
        "samples=y1.size\n",
        "y1=y1.reshape((samples,1))\n",
        "\n",
        "offset = int(x1.shape[0] * 0.80)\n",
        "X_train, Y_train = x1[:offset], y1[:offset]\n",
        "X_test, Y_test = x1[offset:], y1[offset:]\n",
        "Y_test = np.array(Y_test)\n",
        "Y_train = np.array(Y_train)\n",
        "# Se puede adicionar el proceso que requieran para su base de datos\n",
        "\n",
        "# Este sería el proceso para guardar en un formato h5 los datos\n",
        "with h5py.File('age_regression_dataset.h5','w') as h5data:\n",
        "    h5data.create_dataset('train_data',data=X_train)\n",
        "    h5data.create_dataset('test_data',data=X_test)\n",
        "    h5data.create_dataset('train_labels',data=Y_train)\n",
        "    h5data.create_dataset('test_labels',data=Y_test)"
      ],
      "execution_count": null,
      "outputs": []
    }
  ]
}